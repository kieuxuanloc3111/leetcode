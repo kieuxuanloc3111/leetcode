{
 "cells": [
  {
   "cell_type": "code",
   "execution_count": 3,
   "metadata": {},
   "outputs": [],
   "source": [
    "from typing import List\n",
    "\n",
    "class Solution:\n",
    "    def letterCombinations(self, digits: str) -> List[str]:\n",
    "        keyboard = {\n",
    "            \"2\": \"abc\",\n",
    "            \"3\": \"def\",\n",
    "            \"4\": \"ghi\",\n",
    "            \"5\": \"jkl\",\n",
    "            \"6\": \"mno\",\n",
    "            \"7\": \"pqrs\",\n",
    "            \"8\": \"tuv\",\n",
    "            \"9\": \"wxyz\"\n",
    "        }\n",
    "        \n",
    "        if not digits:\n",
    "            print(\"No digits provided, returning an empty list.\")\n",
    "            return []\n",
    "        \n",
    "        result = []\n",
    "        print(f\"Starting backtracking with digits: {digits}\")\n",
    "        \n",
    "        # The helper function with added print statements\n",
    "        def backtracking(index, combination):\n",
    "            print(f\"Backtracking called with index = {index} and combination = '{combination}'\")\n",
    "            \n",
    "            # Base case: If we've processed all digits, add the combination to the result\n",
    "            if index == len(digits):\n",
    "                print(f\"Combination completed: {combination}, adding to result\")\n",
    "                result.append(combination)\n",
    "                return\n",
    "            \n",
    "            # Get the current digit and the possible letters for this digit\n",
    "            current_digit = digits[index]\n",
    "            possible_letters = keyboard[current_digit]\n",
    "            print(f\"Processing digit '{current_digit}' with possible letters: {possible_letters}\")\n",
    "            \n",
    "            # Loop through each letter that the current digit can represent\n",
    "            for letter in possible_letters:\n",
    "                print(f\"Appending letter '{letter}' to combination and calling backtracking for next digit.\")\n",
    "                backtracking(index + 1, combination + letter)\n",
    "                print(f\"Returning from backtracking for combination '{combination}' after exploring '{letter}'\")\n",
    "        \n",
    "        # Start backtracking from the first digit\n",
    "        backtracking(0, \"\")\n",
    "        print(f\"All combinations generated: {result}\")\n",
    "        return result\n"
   ]
  },
  {
   "cell_type": "code",
   "execution_count": 4,
   "metadata": {},
   "outputs": [],
   "source": [
    "a= Solution()\n",
    "digits = \"23\""
   ]
  },
  {
   "cell_type": "code",
   "execution_count": 5,
   "metadata": {},
   "outputs": [
    {
     "name": "stdout",
     "output_type": "stream",
     "text": [
      "Starting backtracking with digits: 23\n",
      "Backtracking called with index = 0 and combination = ''\n",
      "Processing digit '2' with possible letters: abc\n",
      "Appending letter 'a' to combination and calling backtracking for next digit.\n",
      "Backtracking called with index = 1 and combination = 'a'\n",
      "Processing digit '3' with possible letters: def\n",
      "Appending letter 'd' to combination and calling backtracking for next digit.\n",
      "Backtracking called with index = 2 and combination = 'ad'\n",
      "Combination completed: ad, adding to result\n",
      "Returning from backtracking for combination 'a' after exploring 'd'\n",
      "Appending letter 'e' to combination and calling backtracking for next digit.\n",
      "Backtracking called with index = 2 and combination = 'ae'\n",
      "Combination completed: ae, adding to result\n",
      "Returning from backtracking for combination 'a' after exploring 'e'\n",
      "Appending letter 'f' to combination and calling backtracking for next digit.\n",
      "Backtracking called with index = 2 and combination = 'af'\n",
      "Combination completed: af, adding to result\n",
      "Returning from backtracking for combination 'a' after exploring 'f'\n",
      "Returning from backtracking for combination '' after exploring 'a'\n",
      "Appending letter 'b' to combination and calling backtracking for next digit.\n",
      "Backtracking called with index = 1 and combination = 'b'\n",
      "Processing digit '3' with possible letters: def\n",
      "Appending letter 'd' to combination and calling backtracking for next digit.\n",
      "Backtracking called with index = 2 and combination = 'bd'\n",
      "Combination completed: bd, adding to result\n",
      "Returning from backtracking for combination 'b' after exploring 'd'\n",
      "Appending letter 'e' to combination and calling backtracking for next digit.\n",
      "Backtracking called with index = 2 and combination = 'be'\n",
      "Combination completed: be, adding to result\n",
      "Returning from backtracking for combination 'b' after exploring 'e'\n",
      "Appending letter 'f' to combination and calling backtracking for next digit.\n",
      "Backtracking called with index = 2 and combination = 'bf'\n",
      "Combination completed: bf, adding to result\n",
      "Returning from backtracking for combination 'b' after exploring 'f'\n",
      "Returning from backtracking for combination '' after exploring 'b'\n",
      "Appending letter 'c' to combination and calling backtracking for next digit.\n",
      "Backtracking called with index = 1 and combination = 'c'\n",
      "Processing digit '3' with possible letters: def\n",
      "Appending letter 'd' to combination and calling backtracking for next digit.\n",
      "Backtracking called with index = 2 and combination = 'cd'\n",
      "Combination completed: cd, adding to result\n",
      "Returning from backtracking for combination 'c' after exploring 'd'\n",
      "Appending letter 'e' to combination and calling backtracking for next digit.\n",
      "Backtracking called with index = 2 and combination = 'ce'\n",
      "Combination completed: ce, adding to result\n",
      "Returning from backtracking for combination 'c' after exploring 'e'\n",
      "Appending letter 'f' to combination and calling backtracking for next digit.\n",
      "Backtracking called with index = 2 and combination = 'cf'\n",
      "Combination completed: cf, adding to result\n",
      "Returning from backtracking for combination 'c' after exploring 'f'\n",
      "Returning from backtracking for combination '' after exploring 'c'\n",
      "All combinations generated: ['ad', 'ae', 'af', 'bd', 'be', 'bf', 'cd', 'ce', 'cf']\n",
      "['ad', 'ae', 'af', 'bd', 'be', 'bf', 'cd', 'ce', 'cf']\n"
     ]
    }
   ],
   "source": [
    "print(a.letterCombinations(digits))"
   ]
  }
 ],
 "metadata": {
  "kernelspec": {
   "display_name": "Python 3",
   "language": "python",
   "name": "python3"
  },
  "language_info": {
   "codemirror_mode": {
    "name": "ipython",
    "version": 3
   },
   "file_extension": ".py",
   "mimetype": "text/x-python",
   "name": "python",
   "nbconvert_exporter": "python",
   "pygments_lexer": "ipython3",
   "version": "3.10.6"
  }
 },
 "nbformat": 4,
 "nbformat_minor": 2
}
