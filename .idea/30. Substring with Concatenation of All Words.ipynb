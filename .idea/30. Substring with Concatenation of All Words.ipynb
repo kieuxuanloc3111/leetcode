{
 "cells": [
  {
   "cell_type": "code",
   "execution_count": 8,
   "metadata": {},
   "outputs": [],
   "source": [
    "from typing import List\n",
    "\n",
    "class Solution:\n",
    "    def findSubstring(self, s: str, words: List[str]) -> List[int]:\n",
    "        if not s or not words:\n",
    "            return []\n",
    "        \n",
    "        word_len = len(words[0])  # Length of each word (all words are of the same length)\n",
    "        total_len = word_len * len(words)  # Total length of concatenated words\n",
    "        result = []\n",
    "\n",
    "        # Function to check if a substring contains all the words exactly once\n",
    "        def match_words(substring: str, words: List[str]) -> bool:\n",
    "            seen = {}\n",
    "            for i in range(0, len(substring), word_len):\n",
    "                word = substring[i:i + word_len]\n",
    "                if word in seen:\n",
    "                    seen[word] += 1\n",
    "                else:\n",
    "                    seen[word] = 1\n",
    "\n",
    "            for word in words:\n",
    "                if word in seen:\n",
    "                    seen[word] -= 1\n",
    "                    if seen[word] == 0:\n",
    "                        del seen[word]\n",
    "                else:\n",
    "                    return False\n",
    "\n",
    "            return not seen  # If 'seen' is empty, then all words matched correctly\n",
    "        \n",
    "        # Loop through the string, checking every possible starting point\n",
    "        for i in range(len(s) - total_len + 1):\n",
    "            substring = s[i:i + total_len]\n",
    "            if match_words(substring, words):\n",
    "                result.append(i)\n",
    "        \n",
    "        return result\n"
   ]
  },
  {
   "cell_type": "code",
   "execution_count": 9,
   "metadata": {},
   "outputs": [
    {
     "name": "stdout",
     "output_type": "stream",
     "text": [
      "[6, 9, 12]\n"
     ]
    }
   ],
   "source": [
    "a= Solution()\n",
    "s = \"barfoofoobarthefoobarman\"\n",
    "words = [\"bar\",\"foo\",\"the\"]\n",
    "print(a.findSubstring(s,words))\n",
    "\n"
   ]
  }
 ],
 "metadata": {
  "kernelspec": {
   "display_name": "Python 3",
   "language": "python",
   "name": "python3"
  },
  "language_info": {
   "codemirror_mode": {
    "name": "ipython",
    "version": 3
   },
   "file_extension": ".py",
   "mimetype": "text/x-python",
   "name": "python",
   "nbconvert_exporter": "python",
   "pygments_lexer": "ipython3",
   "version": "3.10.6"
  }
 },
 "nbformat": 4,
 "nbformat_minor": 2
}
